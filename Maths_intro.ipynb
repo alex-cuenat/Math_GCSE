{
 "cells": [
  {
   "cell_type": "markdown",
   "metadata": {},
   "source": [
    "# Using Python for maths"
   ]
  },
  {
   "cell_type": "markdown",
   "metadata": {},
   "source": [
    "## Introduction"
   ]
  },
  {
   "cell_type": "markdown",
   "metadata": {},
   "source": [
    "This notebook lists examples of simple Python commands and programs that can be used to help with the understanding of maths, essentially at A level.\n",
    "\n",
    "I will introduce simpler GCSE level materials later. the new A-Level syllabus. \n",
    "\n",
    "This is a Jupyter notebook created from within the Anaconda data science platform. Anaconda can be downloaded here:\n",
    "https://www.anaconda.com\n",
    "\n",
    "Python is an open-source programming language used extensively around the world. You can use almost for anything: game, scripts to automate repetititve task, mapping, statistical analysis, machine learning, scientific computation, ...\n",
    "https://www.python.org/about/gettingstarted/\n",
    "\n",
    "To execute commands in Jupyter, either Run the cell or hit SHIFT + ENTER.\n",
    "\n",
    "The notation should self-explanatory: x**2 is $x^2$.\n",
    "To write nice mathematical equation, I use LaTex and the text is written in a Markdown language similar to HTML, the language use to write web pages, but you do not have to worry about that for now.\n",
    "\n",
    "This idea is that if you want to solve a problem you <br>\n",
    "> 1) Insert a new cell <br>\n",
    "2) Copy the cell that solve a problem similar to yours <br>\n",
    "3) Hit SHIFT + ENTER <br>\n",
    "\n",
    "\n",
    "If you spot any mistakes, please feel free to correct. \n"
   ]
  },
  {
   "cell_type": "markdown",
   "metadata": {},
   "source": [
    "## 1. Surds and Indices"
   ]
  },
  {
   "cell_type": "markdown",
   "metadata": {},
   "source": [
    "1) Simplify $(2 + 2 \\sqrt{2})(-\\sqrt{2} + 4)$ <br>\n",
    "2) Simplify $\\frac{6}{5 \\sqrt{2}}$ <br>\n",
    "3) Simplify $(2-3 \\sqrt{5})^{10}$"
   ]
  },
  {
   "cell_type": "code",
   "execution_count": 3,
   "metadata": {},
   "outputs": [
    {
     "data": {
      "text/latex": [
       "$\\displaystyle 4 + 6 \\sqrt{2}$"
      ],
      "text/plain": [
       "4 + 6*sqrt(2)"
      ]
     },
     "execution_count": 3,
     "metadata": {},
     "output_type": "execute_result"
    }
   ],
   "source": [
    "# Load functions from the SYMbolic PYthon module.\n",
    "from sympy import sqrt, simplify            \n",
    "simplify((2 + 2 * sqrt(2))*(-sqrt(2) + 4))"
   ]
  },
  {
   "cell_type": "code",
   "execution_count": 4,
   "metadata": {},
   "outputs": [
    {
     "data": {
      "text/latex": [
       "$\\displaystyle \\frac{3 \\sqrt{2}}{5}$"
      ],
      "text/plain": [
       "3*sqrt(2)/5"
      ]
     },
     "execution_count": 4,
     "metadata": {},
     "output_type": "execute_result"
    }
   ],
   "source": [
    "simplify(6 / (5 * sqrt(2)))"
   ]
  },
  {
   "cell_type": "code",
   "execution_count": 5,
   "metadata": {},
   "outputs": [
    {
     "data": {
      "text/latex": [
       "$\\displaystyle 1256556049 - 559555260 \\sqrt{5}$"
      ],
      "text/plain": [
       "1256556049 - 559555260*sqrt(5)"
      ]
     },
     "execution_count": 5,
     "metadata": {},
     "output_type": "execute_result"
    }
   ],
   "source": [
    "simplify((2 - 3 * sqrt(5))**10)"
   ]
  },
  {
   "cell_type": "markdown",
   "metadata": {},
   "source": [
    "Find, to 3 significant figures, the value of  $x$ for which $8^x=0.8$"
   ]
  },
  {
   "cell_type": "code",
   "execution_count": 6,
   "metadata": {},
   "outputs": [
    {
     "name": "stdout",
     "output_type": "stream",
     "text": [
      "The real solution is -0.107, to 3 sig. figs.\n"
     ]
    }
   ],
   "source": [
    "from sympy import Symbol, solve\n",
    "x = Symbol('x')\n",
    "sol = solve(8**x - 0.8, x)\n",
    "# Zero-based indexing in Python: sol[0] is the first solution.\n",
    "# The other two roots are complex.\n",
    "# Format the solution.\n",
    "print('The real solution is {:0.3g},'.format(sol[0]), 'to 3 sig. figs.')  "
   ]
  },
  {
   "cell_type": "markdown",
   "metadata": {},
   "source": [
    "## 2. Quadratic Functions"
   ]
  },
  {
   "cell_type": "markdown",
   "metadata": {},
   "source": [
    "(i) Determine the roots of the equation: $x^2+3x-5=0$  <br>\n",
    "\n",
    "(ii) Plot the quadratic function: $y=x^2+3x-54$ <br>"
   ]
  },
  {
   "cell_type": "code",
   "execution_count": 7,
   "metadata": {},
   "outputs": [
    {
     "data": {
      "text/plain": [
       "[-3/2 + sqrt(29)/2, -sqrt(29)/2 - 3/2]"
      ]
     },
     "execution_count": 7,
     "metadata": {},
     "output_type": "execute_result"
    }
   ],
   "source": [
    "from sympy import solve, Symbol\n",
    "x = Symbol('x')\n",
    "solve(x**2 + 3 * x - 5, x)"
   ]
  },
  {
   "cell_type": "code",
   "execution_count": 11,
   "metadata": {},
   "outputs": [
    {
     "data": {
      "image/png": "[encoded data removed]",
      "text/plain": [
       "<Figure size 432x288 with 1 Axes>"
      ]
     },
     "metadata": {
      "needs_background": "light"
     },
     "output_type": "display_data"
    }
   ],
   "source": [
    "# Use the alias np instead of numpy (NUMerical PYthon).\n",
    "# Use the alias plt for matplotlib.pyplot.\n",
    "import numpy as np                  \n",
    "import matplotlib.pyplot as plt  \n",
    "%matplotlib inline\n",
    "# x ranges from -8 to 5 in 100 intervals.\n",
    "x = np.linspace(-8, 5, 100)         \n",
    "plt.plot(x, x**2 + 3 * x - 5)\n",
    "plt.xlabel('x')\n",
    "plt.ylabel('y')\n",
    "# Show the plot.\n",
    "plt.show()    "
   ]
  },
  {
   "cell_type": "markdown",
   "metadata": {},
   "source": [
    "## Print dependences\n",
    "This is required to record the computational environment in order to share the results online and for reproducibility."
   ]
  },
  {
   "cell_type": "code",
   "execution_count": 12,
   "metadata": {},
   "outputs": [
    {
     "name": "stdout",
     "output_type": "stream",
     "text": [
      "The watermark extension is already loaded. To reload it, use:\n",
      "  %reload_ext watermark\n",
      "Python implementation: CPython\n",
      "Python version       : 3.8.12\n",
      "IPython version      : 7.29.0\n",
      "\n",
      "simpy     : 4.0.1\n",
      "matplotlib: 3.1.3\n",
      "pandas    : 1.3.4\n",
      "numpy     : 1.21.2\n",
      "watermark : 2.2.0\n",
      "\n",
      "Compiler    : MSC v.1916 64 bit (AMD64)\n",
      "OS          : Windows\n",
      "Release     : 10\n",
      "Machine     : AMD64\n",
      "Processor   : Intel64 Family 6 Model 94 Stepping 3, GenuineIntel\n",
      "CPU cores   : 8\n",
      "Architecture: 64bit\n",
      "\n",
      " \n",
      "Last updated: Thu Nov 25 2021 19:02:30GMT Standard Time\n",
      "\n"
     ]
    }
   ],
   "source": [
    "%load_ext watermark\n",
    "\n",
    "# python, ipython, packages, and machine characteristics\n",
    "%watermark -v -m -p simpy,matplotlib,pandas,numpy,watermark \n",
    "\n",
    "# date\n",
    "print (\" \")\n",
    "%watermark -u -n -t -z "
   ]
  },
  {
   "cell_type": "code",
   "execution_count": null,
   "metadata": {},
   "outputs": [],
   "source": [
    "import numpy as np\n",
    "import matplotlib.pyplot as plt\n",
    "\n",
    "# evenly sampled time at 200ms intervals\n",
    "t = np.arange(0., 5., 0.2)\n",
    "\n",
    "# red dashes, blue squares and green triangles\n",
    "plt.plot(t, t, 'r--', t, t**2, 'bs', t, t**3, 'g^')\n",
    "plt.show()"
   ]
  },
  {
   "cell_type": "code",
   "execution_count": null,
   "metadata": {},
   "outputs": [],
   "source": [
    "import matplotlib.pyplot as plt\n",
    "plt.plot([1,2,3,4], [1,4,9,16], 'ro')\n",
    "plt.axis([0, 6, 0, 20])\n",
    "plt.show()"
   ]
  },
  {
   "cell_type": "code",
   "execution_count": null,
   "metadata": {},
   "outputs": [],
   "source": []
  }
 ],
 "metadata": {
  "kernelspec": {
   "display_name": "Python 3 (ipykernel)",
   "language": "python",
   "name": "python3"
  },
  "language_info": {
   "codemirror_mode": {
    "name": "ipython",
    "version": 3
   },
   "file_extension": ".py",
   "mimetype": "text/x-python",
   "name": "python",
   "nbconvert_exporter": "python",
   "pygments_lexer": "ipython3",
   "version": "3.8.12"
  }
 },
 "nbformat": 4,
 "nbformat_minor": 4
}
