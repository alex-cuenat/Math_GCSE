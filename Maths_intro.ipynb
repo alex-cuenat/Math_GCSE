{
 "cells": [
  {
   "cell_type": "markdown",
   "metadata": {},
   "source": [
    "# Using Python for maths"
   ]
  },
  {
   "cell_type": "markdown",
   "metadata": {},
   "source": [
    "## Introduction"
   ]
  },
  {
   "cell_type": "markdown",
   "metadata": {},
   "source": [
    "This notebook lists examples of simple Python commands and programs that can be used to help with the understanding of maths, essentially at A level.\n",
    "\n",
    "I will introduce simpler GCSE level materials later. the new A-Level syllabus. \n",
    "\n",
    "This is a Jupyter notebook created from within the Anaconda data science platform. Anaconda can be downloaded here:\n",
    "https://www.anaconda.com\n",
    "\n",
    "Python is an open-source programming language used extensively around the world. You can use almost for anything: game, scripts to automate repetititve task, mapping, statistical analysis, machine learning, scientific computation, ...\n",
    "https://www.python.org/about/gettingstarted/\n",
    "\n",
    "To execute commands in Jupyter, either Run the cell or hit SHIFT + ENTER.\n",
    "\n",
    "The notation should self-explanatory: x**2 is $x^2$.\n",
    "To write nice mathematical equation, I use LaTex and the text is written in a Markdown language similar to HTML, the language use to write web pages, but you do not have to worry about that for now.\n",
    "\n",
    "This idea is that if you want to solve a problem you <br>\n",
    "> 1) Insert a new cell <br>\n",
    "2) Copy the cell that solve a problem similar to yours <br>\n",
    "3) Hit SHIFT + ENTER <br>\n",
    "\n",
    "\n",
    "If you spot any mistakes, please feel free to correct. \n"
   ]
  },
  {
   "cell_type": "markdown",
   "metadata": {},
   "source": [
    "## 1. Surds and Indices"
   ]
  },
  {
   "cell_type": "markdown",
   "metadata": {},
   "source": [
    "1) Simplify $(2 + 2 \\sqrt{2})(-\\sqrt{2} + 4)$ <br>\n",
    "2) Simplify $\\frac{6}{5 \\sqrt{2}}$ <br>\n",
    "3) Simplify $(2-3 \\sqrt{5})^{10}$"
   ]
  },
  {
   "cell_type": "code",
   "execution_count": null,
   "metadata": {},
   "outputs": [],
   "source": [
    "# Load functions from the SYMbolic PYthon module.\n",
    "from sympy import sqrt, simplify            \n",
    "simplify((2 + 2 * sqrt(2))*(-sqrt(2) + 4))"
   ]
  },
  {
   "cell_type": "code",
   "execution_count": null,
   "metadata": {},
   "outputs": [],
   "source": [
    "simplify(6 / (5 * sqrt(2)))"
   ]
  },
  {
   "cell_type": "code",
   "execution_count": null,
   "metadata": {},
   "outputs": [],
   "source": [
    "simplify((2 - 3 * sqrt(5))**10)"
   ]
  },
  {
   "cell_type": "markdown",
   "metadata": {},
   "source": [
    "Find, to 3 significant figures, the value of  $x$ for which $8^x=0.8$"
   ]
  },
  {
   "cell_type": "code",
   "execution_count": null,
   "metadata": {},
   "outputs": [],
   "source": [
    "from sympy import Symbol, solve\n",
    "x = Symbol('x')\n",
    "sol = solve(8**x - 0.8, x)\n",
    "# Zero-based indexing in Python: sol[0] is the first solution.\n",
    "# The other two roots are complex.\n",
    "# Format the solution.\n",
    "print('The real solution is {:0.3g},'.format(sol[0]), 'to 3 sig. figs.')  "
   ]
  },
  {
   "cell_type": "markdown",
   "metadata": {},
   "source": [
    "## 2. Quadratic Functions"
   ]
  },
  {
   "cell_type": "markdown",
   "metadata": {},
   "source": [
    "(i) Determine the roots of the equation: $x^2+3x-5=0$  <br>\n",
    "\n",
    "(ii) Plot the quadratic function: $y=x^2+3x-54$ <br>"
   ]
  },
  {
   "cell_type": "code",
   "execution_count": null,
   "metadata": {},
   "outputs": [],
   "source": [
    "from sympy import solve, Symbol\n",
    "x = Symbol('x')\n",
    "solve(x**2 + 3 * x - 5, x)"
   ]
  },
  {
   "cell_type": "code",
   "execution_count": null,
   "metadata": {},
   "outputs": [],
   "source": [
    "# Use the alias np instead of numpy (NUMerical PYthon).\n",
    "# Use the alias plt for matplotlib.pyplot.\n",
    "import numpy as np                  \n",
    "import matplotlib.pyplot as plt   \n",
    "# x ranges from -8 to 5 in 100 intervals.\n",
    "x = np.linspace(-8, 5, 100)         \n",
    "plt.plot(x, x**2 + 3 * x - 5)\n",
    "plt.xlabel('x')\n",
    "plt.ylabel('y')\n",
    "# Show the plot.\n",
    "plt.show()    "
   ]
  },
  {
   "cell_type": "markdown",
   "metadata": {},
   "source": [
    "## Print dependences\n",
    "This is required to record the computational environment in order to share the results online and for reproducibility."
   ]
  },
  {
   "cell_type": "code",
   "execution_count": null,
   "metadata": {},
   "outputs": [],
   "source": [
    "%load_ext watermark\n",
    "\n",
    "# python, ipython, packages, and machine characteristics\n",
    "%watermark -v -m -p matplotlib,pandas,numpy,watermark \n",
    "\n",
    "# date\n",
    "print (\" \")\n",
    "%watermark -u -n -t -z "
   ]
  }
 ],
 "metadata": {
  "kernelspec": {
   "display_name": "Python 3",
   "language": "python",
   "name": "python3"
  },
  "language_info": {
   "codemirror_mode": {
    "name": "ipython",
    "version": 3
   },
   "file_extension": ".py",
   "mimetype": "text/x-python",
   "name": "python",
   "nbconvert_exporter": "python",
   "pygments_lexer": "ipython3",
   "version": "3.8.5"
  }
 },
 "nbformat": 4,
 "nbformat_minor": 4
}
